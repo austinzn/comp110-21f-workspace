{
 "cells": [
  {
   "cell_type": "code",
   "execution_count": 60,
   "metadata": {},
   "outputs": [],
   "source": [
    "__author__ = \"730466197\""
   ]
  },
  {
   "cell_type": "markdown",
   "metadata": {},
   "source": [
    "## Hypothesis: I think that students who think the class is difficult will be less interested in the course topics."
   ]
  },
  {
   "cell_type": "code",
   "execution_count": 61,
   "metadata": {},
   "outputs": [
    {
     "name": "stdout",
     "output_type": "stream",
     "text": [
      "Autoreload of imported modules enabled.\n"
     ]
    }
   ],
   "source": [
    "%reload_ext autoreload\n",
    "%autoreload 2\n",
    "print(\"Autoreload of imported modules enabled.\")"
   ]
  },
  {
   "cell_type": "markdown",
   "metadata": {},
   "source": [
    "First, I need to convert the data into a column-oriented data table."
   ]
  },
  {
   "cell_type": "code",
   "execution_count": 62,
   "metadata": {},
   "outputs": [],
   "source": [
    "from data_utils import read_csv_rows, columnar\n",
    "data_rows: list[dict[str, str]] = read_csv_rows('../../data/survey.csv')\n",
    "columns: dict[str, list[str]] = columnar(data_rows)"
   ]
  },
  {
   "cell_type": "markdown",
   "metadata": {},
   "source": [
    "Now I will select just the column section of both the interest question and the difficulty question. Each is rated on a scale of 1-7. Here are the first five rows of each:"
   ]
  },
  {
   "cell_type": "code",
   "execution_count": 63,
   "metadata": {},
   "outputs": [
    {
     "name": "stdout",
     "output_type": "stream",
     "text": [
      "{'interesting': ['5', '7', '7', '5', '6']}\n"
     ]
    },
    {
     "data": {
      "text/plain": [
       "{'difficulty': ['5', '3', '5', '6', '4']}"
      ]
     },
     "execution_count": 63,
     "metadata": {},
     "output_type": "execute_result"
    }
   ],
   "source": [
    "from data_utils import head, select\n",
    "subset_interest: dict[str, list[str]] = select(columns, [\"interesting\"])\n",
    "subset_difficulty: dict[str, list[str]] = select(columns, [\"difficulty\"])\n",
    "print(head(subset_interest, 5))\n",
    "head(subset_difficulty, 5)"
   ]
  },
  {
   "cell_type": "markdown",
   "metadata": {},
   "source": [
    "Next I will determine how many people think the course is hard. For this analysis, I will say that a rating of 6 or above is considered difficult, while 3-5 is average and 1-2 is easy. Here is the amount of responses for each difficulty level."
   ]
  },
  {
   "cell_type": "code",
   "execution_count": 64,
   "metadata": {},
   "outputs": [
    {
     "data": {
      "text/plain": [
       "{'average': 332, 'easy': 241, 'hard': 86}"
      ]
     },
     "execution_count": 64,
     "metadata": {},
     "output_type": "execute_result"
    }
   ],
   "source": [
    "from data_utils import count, column_values\n",
    "values: list[str] = column_values(data_rows, \"difficulty\")\n",
    "difficulties: dict[str, int] = count(values)\n",
    "ratings: dict[str, int] = {}\n",
    "h: int = 0\n",
    "avg: int = 0\n",
    "e: int = 0\n",
    "for num in difficulties:\n",
    "    if int(num) > 6:\n",
    "        h += difficulties[num]\n",
    "        ratings[\"hard\"] = h\n",
    "    if int(num) < 6 and int(num) > 2:\n",
    "        avg += difficulties[num]\n",
    "        ratings[\"average\"] = avg\n",
    "    else:\n",
    "        e += difficulties[num]\n",
    "        ratings[\"easy\"] = e\n",
    "ratings"
   ]
  },
  {
   "cell_type": "markdown",
   "metadata": {},
   "source": [
    "### Here is a barplot showing how the thoughts of respondants on difficulty compare. "
   ]
  },
  {
   "cell_type": "code",
   "execution_count": 65,
   "metadata": {},
   "outputs": [
    {
     "data": {
      "text/plain": [
       "Text(0.5, 1.0, 'Respondants Thoughts on Course Difficulty')"
      ]
     },
     "execution_count": 65,
     "metadata": {},
     "output_type": "execute_result"
    },
    {
     "data": {
      "image/png": "[encoded data removed]",
      "text/plain": [
       "<Figure size 432x288 with 1 Axes>"
      ]
     },
     "metadata": {
      "needs_background": "light"
     },
     "output_type": "display_data"
    }
   ],
   "source": [
    "import seaborn\n",
    "seaborn.barplot(x=[\"easy\", \"average\", \"hard\"], y=[241, 332, 86]).set_title(\"Respondants Thoughts on Course Difficulty\")"
   ]
  },
  {
   "cell_type": "markdown",
   "metadata": {},
   "source": [
    "Next I will determine the interest levels of those taking the course. I will say that anything below a below a 3 is deemed not interested in the course topics, above a 5 is interested, and 3-5 is average interest. Using this, I can determine what portion of respondants thought the course was both hard and uninteresting. Here is the result:"
   ]
  },
  {
   "cell_type": "code",
   "execution_count": 66,
   "metadata": {},
   "outputs": [
    {
     "data": {
      "text/plain": [
       "{'interested': 356, 'average_interest': 198, 'uninterested': 19}"
      ]
     },
     "execution_count": 66,
     "metadata": {},
     "output_type": "execute_result"
    }
   ],
   "source": [
    "from data_utils import high, average, low\n",
    "interest_levels: dict[str, int] = {}\n",
    "interest_levels[\"interested\"] = high(subset_interest[\"interesting\"])\n",
    "interest_levels[\"average_interest\"] = average(subset_interest[\"interesting\"])\n",
    "interest_levels[\"uninterested\"] = low(subset_interest[\"interesting\"])\n",
    "interest_levels\n"
   ]
  },
  {
   "cell_type": "markdown",
   "metadata": {},
   "source": [
    "### Here is a barplot showing how the thoughts of respondants on interest compare. "
   ]
  },
  {
   "cell_type": "code",
   "execution_count": 67,
   "metadata": {},
   "outputs": [
    {
     "data": {
      "text/plain": [
       "Text(0.5, 1.0, 'Interest of Respondants')"
      ]
     },
     "execution_count": 67,
     "metadata": {},
     "output_type": "execute_result"
    },
    {
     "data": {
      "image/png": "[encoded data removed]",
      "text/plain": [
       "<Figure size 432x288 with 1 Axes>"
      ]
     },
     "metadata": {
      "needs_background": "light"
     },
     "output_type": "display_data"
    }
   ],
   "source": [
    "seaborn.barplot(x=[\"uninterested\", \"average interest\", \"interested\"], y=[19, 198, 356]).set_title(\"Interest of Respondants\")\n"
   ]
  },
  {
   "cell_type": "markdown",
   "metadata": {},
   "source": [
    "Finally, I will determine how many respondants felt that the course is both difficult and uninteresting. Here are the results:"
   ]
  },
  {
   "cell_type": "code",
   "execution_count": 68,
   "metadata": {},
   "outputs": [
    {
     "name": "stdout",
     "output_type": "stream",
     "text": [
      "14 students found the course to be both difficult and uninteresting.\n"
     ]
    }
   ],
   "source": [
    "i = 0\n",
    "students = 0\n",
    "\n",
    "while i < len(subset_difficulty[\"difficulty\"]):\n",
    "    if int(subset_difficulty[\"difficulty\"][i]) > 5 and int(subset_interest[\"interesting\"][i]) < 3:\n",
    "        students += 1\n",
    "    i += 1\n",
    "print(f\"{students} students found the course to be both difficult and uninteresting.\")"
   ]
  },
  {
   "cell_type": "markdown",
   "metadata": {},
   "source": [
    "## Conclusion\n",
    "\n",
    "### Out of the 86 students who thought that the course was hard, 14 of these students thought that the coursework was uninteresting, or about 16%. However, considering that only 19 individuals responded that the class was uninteresting, that means that about 74% of those who were actually uninterested in the coursework also thought that it was hard. So while my original hypthosis has been disproved, my project has, in the process, proved that those who find the class uninteresting tend to also find it hard."
   ]
  }
 ],
 "metadata": {
  "interpreter": {
   "hash": "3a9edbe0614845e4741d6ef5998e440eef8a13a2553455bf6fe17e1a001dd031"
  },
  "kernelspec": {
   "display_name": "Python 3.9.7 64-bit",
   "language": "python",
   "name": "python3"
  },
  "language_info": {
   "codemirror_mode": {
    "name": "ipython",
    "version": 3
   },
   "file_extension": ".py",
   "mimetype": "text/x-python",
   "name": "python",
   "nbconvert_exporter": "python",
   "pygments_lexer": "ipython3",
   "version": "3.9.7"
  },
  "orig_nbformat": 4
 },
 "nbformat": 4,
 "nbformat_minor": 2
}
